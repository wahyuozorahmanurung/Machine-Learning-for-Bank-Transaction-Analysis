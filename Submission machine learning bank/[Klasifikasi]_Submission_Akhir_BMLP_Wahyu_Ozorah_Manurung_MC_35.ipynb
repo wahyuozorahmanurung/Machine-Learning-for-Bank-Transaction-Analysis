{
  "nbformat": 4,
  "nbformat_minor": 0,
  "metadata": {
    "colab": {
      "provenance": []
    },
    "kernelspec": {
      "name": "python3",
      "display_name": "Python 3"
    },
    "language_info": {
      "name": "python"
    }
  },
  "cells": [
    {
      "cell_type": "markdown",
      "source": [
        "# **1. Import Library**"
      ],
      "metadata": {
        "id": "fKADPWcFKlj3"
      }
    },
    {
      "cell_type": "markdown",
      "source": [
        "Pada tahap ini, Anda perlu mengimpor beberapa pustaka (library) Python yang dibutuhkan untuk analisis data dan pembangunan model machine learning."
      ],
      "metadata": {
        "id": "LgA3ERnVn84N"
      }
    },
    {
      "cell_type": "code",
      "source": [
        "import pandas as pd\n",
        "import seaborn as sns\n",
        "import matplotlib.pyplot as plt\n",
        "import numpy as np\n",
        "\n",
        "\n",
        "from sklearn.metrics import accuracy_score, classification_report\n",
        "from sklearn.model_selection import train_test_split\n",
        "from sklearn.linear_model import LogisticRegression\n",
        "from sklearn.ensemble import RandomForestClassifier\n",
        "from sklearn.tree import DecisionTreeClassifier\n",
        "from sklearn.metrics import accuracy_score, classification_report, confusion_matrix\n",
        "from sklearn.model_selection import GridSearchCV, RandomizedSearchCV\n"
      ],
      "metadata": {
        "id": "BlmvjLY9M4Yj"
      },
      "execution_count": 68,
      "outputs": []
    },
    {
      "cell_type": "markdown",
      "source": [
        "# **2. Memuat Dataset dari Hasil Clustering**"
      ],
      "metadata": {
        "id": "f3YIEnAFKrKL"
      }
    },
    {
      "cell_type": "markdown",
      "source": [
        "Memuat dataset hasil clustering dari file CSV ke dalam variabel DataFrame."
      ],
      "metadata": {
        "id": "Ey3ItwTen_7E"
      }
    },
    {
      "cell_type": "code",
      "source": [
        "df = pd.read_csv(\"Data_Cluster.csv\")\n",
        "df.head()"
      ],
      "metadata": {
        "id": "GHCGNTyrM5fS",
        "colab": {
          "base_uri": "https://localhost:8080/",
          "height": 226
        },
        "outputId": "236f8da8-fee6-445a-9971-113916cc0cbe"
      },
      "execution_count": 69,
      "outputs": [
        {
          "output_type": "execute_result",
          "data": {
            "text/plain": [
              "  TransactionID AccountID  TransactionAmount   TransactionDate  \\\n",
              "0      TX000001   AC00128          -0.833819   4/11/2023 16:29   \n",
              "1      TX000002   AC00455           0.918286   6/27/2023 16:44   \n",
              "2      TX000003   AC00019          -0.159845   7/10/2023 18:16   \n",
              "3      TX000004   AC00070           0.118526    5/5/2023 16:32   \n",
              "4      TX000005   AC00411          -0.839202  10/16/2023 17:51   \n",
              "\n",
              "   TransactionType  Location DeviceID      IP Address MerchantID  Channel  \\\n",
              "0                1        36  D000380  162.198.218.92       M015        0   \n",
              "1                1        15  D000051     13.149.61.4       M052        0   \n",
              "2                1        23  D000235  215.97.143.157       M009        2   \n",
              "3                1        33  D000187  200.13.225.150       M002        2   \n",
              "4                0         1  D000308    65.164.3.100       M091        2   \n",
              "\n",
              "   CustomerAge  CustomerOccupation  TransactionDuration  LoginAttempts  \\\n",
              "0     2.482507                   0            -0.175972      -0.349146   \n",
              "1     2.254365                   0             0.703192      -0.349146   \n",
              "2    -0.827357                   3            -0.490542      -0.349146   \n",
              "3    -0.648272                   3            -0.819552      -0.349146   \n",
              "4    -0.648272                   3             1.661080      -0.349146   \n",
              "\n",
              "   AccountBalance PreviousTransactionDate  Cluster  \n",
              "0        0.488785          11/4/2024 8:08        0  \n",
              "1        2.620596          11/4/2024 8:09        0  \n",
              "2       -0.618078          11/4/2024 8:07        1  \n",
              "3        1.366906          11/4/2024 8:09        0  \n",
              "4        1.082323          11/4/2024 8:06        0  "
            ],
            "text/html": [
              "\n",
              "  <div id=\"df-752dcfb0-eba3-416e-94d7-51b637d0f2cf\" class=\"colab-df-container\">\n",
              "    <div>\n",
              "<style scoped>\n",
              "    .dataframe tbody tr th:only-of-type {\n",
              "        vertical-align: middle;\n",
              "    }\n",
              "\n",
              "    .dataframe tbody tr th {\n",
              "        vertical-align: top;\n",
              "    }\n",
              "\n",
              "    .dataframe thead th {\n",
              "        text-align: right;\n",
              "    }\n",
              "</style>\n",
              "<table border=\"1\" class=\"dataframe\">\n",
              "  <thead>\n",
              "    <tr style=\"text-align: right;\">\n",
              "      <th></th>\n",
              "      <th>TransactionID</th>\n",
              "      <th>AccountID</th>\n",
              "      <th>TransactionAmount</th>\n",
              "      <th>TransactionDate</th>\n",
              "      <th>TransactionType</th>\n",
              "      <th>Location</th>\n",
              "      <th>DeviceID</th>\n",
              "      <th>IP Address</th>\n",
              "      <th>MerchantID</th>\n",
              "      <th>Channel</th>\n",
              "      <th>CustomerAge</th>\n",
              "      <th>CustomerOccupation</th>\n",
              "      <th>TransactionDuration</th>\n",
              "      <th>LoginAttempts</th>\n",
              "      <th>AccountBalance</th>\n",
              "      <th>PreviousTransactionDate</th>\n",
              "      <th>Cluster</th>\n",
              "    </tr>\n",
              "  </thead>\n",
              "  <tbody>\n",
              "    <tr>\n",
              "      <th>0</th>\n",
              "      <td>TX000001</td>\n",
              "      <td>AC00128</td>\n",
              "      <td>-0.833819</td>\n",
              "      <td>4/11/2023 16:29</td>\n",
              "      <td>1</td>\n",
              "      <td>36</td>\n",
              "      <td>D000380</td>\n",
              "      <td>162.198.218.92</td>\n",
              "      <td>M015</td>\n",
              "      <td>0</td>\n",
              "      <td>2.482507</td>\n",
              "      <td>0</td>\n",
              "      <td>-0.175972</td>\n",
              "      <td>-0.349146</td>\n",
              "      <td>0.488785</td>\n",
              "      <td>11/4/2024 8:08</td>\n",
              "      <td>0</td>\n",
              "    </tr>\n",
              "    <tr>\n",
              "      <th>1</th>\n",
              "      <td>TX000002</td>\n",
              "      <td>AC00455</td>\n",
              "      <td>0.918286</td>\n",
              "      <td>6/27/2023 16:44</td>\n",
              "      <td>1</td>\n",
              "      <td>15</td>\n",
              "      <td>D000051</td>\n",
              "      <td>13.149.61.4</td>\n",
              "      <td>M052</td>\n",
              "      <td>0</td>\n",
              "      <td>2.254365</td>\n",
              "      <td>0</td>\n",
              "      <td>0.703192</td>\n",
              "      <td>-0.349146</td>\n",
              "      <td>2.620596</td>\n",
              "      <td>11/4/2024 8:09</td>\n",
              "      <td>0</td>\n",
              "    </tr>\n",
              "    <tr>\n",
              "      <th>2</th>\n",
              "      <td>TX000003</td>\n",
              "      <td>AC00019</td>\n",
              "      <td>-0.159845</td>\n",
              "      <td>7/10/2023 18:16</td>\n",
              "      <td>1</td>\n",
              "      <td>23</td>\n",
              "      <td>D000235</td>\n",
              "      <td>215.97.143.157</td>\n",
              "      <td>M009</td>\n",
              "      <td>2</td>\n",
              "      <td>-0.827357</td>\n",
              "      <td>3</td>\n",
              "      <td>-0.490542</td>\n",
              "      <td>-0.349146</td>\n",
              "      <td>-0.618078</td>\n",
              "      <td>11/4/2024 8:07</td>\n",
              "      <td>1</td>\n",
              "    </tr>\n",
              "    <tr>\n",
              "      <th>3</th>\n",
              "      <td>TX000004</td>\n",
              "      <td>AC00070</td>\n",
              "      <td>0.118526</td>\n",
              "      <td>5/5/2023 16:32</td>\n",
              "      <td>1</td>\n",
              "      <td>33</td>\n",
              "      <td>D000187</td>\n",
              "      <td>200.13.225.150</td>\n",
              "      <td>M002</td>\n",
              "      <td>2</td>\n",
              "      <td>-0.648272</td>\n",
              "      <td>3</td>\n",
              "      <td>-0.819552</td>\n",
              "      <td>-0.349146</td>\n",
              "      <td>1.366906</td>\n",
              "      <td>11/4/2024 8:09</td>\n",
              "      <td>0</td>\n",
              "    </tr>\n",
              "    <tr>\n",
              "      <th>4</th>\n",
              "      <td>TX000005</td>\n",
              "      <td>AC00411</td>\n",
              "      <td>-0.839202</td>\n",
              "      <td>10/16/2023 17:51</td>\n",
              "      <td>0</td>\n",
              "      <td>1</td>\n",
              "      <td>D000308</td>\n",
              "      <td>65.164.3.100</td>\n",
              "      <td>M091</td>\n",
              "      <td>2</td>\n",
              "      <td>-0.648272</td>\n",
              "      <td>3</td>\n",
              "      <td>1.661080</td>\n",
              "      <td>-0.349146</td>\n",
              "      <td>1.082323</td>\n",
              "      <td>11/4/2024 8:06</td>\n",
              "      <td>0</td>\n",
              "    </tr>\n",
              "  </tbody>\n",
              "</table>\n",
              "</div>\n",
              "    <div class=\"colab-df-buttons\">\n",
              "\n",
              "  <div class=\"colab-df-container\">\n",
              "    <button class=\"colab-df-convert\" onclick=\"convertToInteractive('df-752dcfb0-eba3-416e-94d7-51b637d0f2cf')\"\n",
              "            title=\"Convert this dataframe to an interactive table.\"\n",
              "            style=\"display:none;\">\n",
              "\n",
              "  <svg xmlns=\"http://www.w3.org/2000/svg\" height=\"24px\" viewBox=\"0 -960 960 960\">\n",
              "    <path d=\"M120-120v-720h720v720H120Zm60-500h600v-160H180v160Zm220 220h160v-160H400v160Zm0 220h160v-160H400v160ZM180-400h160v-160H180v160Zm440 0h160v-160H620v160ZM180-180h160v-160H180v160Zm440 0h160v-160H620v160Z\"/>\n",
              "  </svg>\n",
              "    </button>\n",
              "\n",
              "  <style>\n",
              "    .colab-df-container {\n",
              "      display:flex;\n",
              "      gap: 12px;\n",
              "    }\n",
              "\n",
              "    .colab-df-convert {\n",
              "      background-color: #E8F0FE;\n",
              "      border: none;\n",
              "      border-radius: 50%;\n",
              "      cursor: pointer;\n",
              "      display: none;\n",
              "      fill: #1967D2;\n",
              "      height: 32px;\n",
              "      padding: 0 0 0 0;\n",
              "      width: 32px;\n",
              "    }\n",
              "\n",
              "    .colab-df-convert:hover {\n",
              "      background-color: #E2EBFA;\n",
              "      box-shadow: 0px 1px 2px rgba(60, 64, 67, 0.3), 0px 1px 3px 1px rgba(60, 64, 67, 0.15);\n",
              "      fill: #174EA6;\n",
              "    }\n",
              "\n",
              "    .colab-df-buttons div {\n",
              "      margin-bottom: 4px;\n",
              "    }\n",
              "\n",
              "    [theme=dark] .colab-df-convert {\n",
              "      background-color: #3B4455;\n",
              "      fill: #D2E3FC;\n",
              "    }\n",
              "\n",
              "    [theme=dark] .colab-df-convert:hover {\n",
              "      background-color: #434B5C;\n",
              "      box-shadow: 0px 1px 3px 1px rgba(0, 0, 0, 0.15);\n",
              "      filter: drop-shadow(0px 1px 2px rgba(0, 0, 0, 0.3));\n",
              "      fill: #FFFFFF;\n",
              "    }\n",
              "  </style>\n",
              "\n",
              "    <script>\n",
              "      const buttonEl =\n",
              "        document.querySelector('#df-752dcfb0-eba3-416e-94d7-51b637d0f2cf button.colab-df-convert');\n",
              "      buttonEl.style.display =\n",
              "        google.colab.kernel.accessAllowed ? 'block' : 'none';\n",
              "\n",
              "      async function convertToInteractive(key) {\n",
              "        const element = document.querySelector('#df-752dcfb0-eba3-416e-94d7-51b637d0f2cf');\n",
              "        const dataTable =\n",
              "          await google.colab.kernel.invokeFunction('convertToInteractive',\n",
              "                                                    [key], {});\n",
              "        if (!dataTable) return;\n",
              "\n",
              "        const docLinkHtml = 'Like what you see? Visit the ' +\n",
              "          '<a target=\"_blank\" href=https://colab.research.google.com/notebooks/data_table.ipynb>data table notebook</a>'\n",
              "          + ' to learn more about interactive tables.';\n",
              "        element.innerHTML = '';\n",
              "        dataTable['output_type'] = 'display_data';\n",
              "        await google.colab.output.renderOutput(dataTable, element);\n",
              "        const docLink = document.createElement('div');\n",
              "        docLink.innerHTML = docLinkHtml;\n",
              "        element.appendChild(docLink);\n",
              "      }\n",
              "    </script>\n",
              "  </div>\n",
              "\n",
              "\n",
              "<div id=\"df-617362d2-df48-4298-b16d-241d16511367\">\n",
              "  <button class=\"colab-df-quickchart\" onclick=\"quickchart('df-617362d2-df48-4298-b16d-241d16511367')\"\n",
              "            title=\"Suggest charts\"\n",
              "            style=\"display:none;\">\n",
              "\n",
              "<svg xmlns=\"http://www.w3.org/2000/svg\" height=\"24px\"viewBox=\"0 0 24 24\"\n",
              "     width=\"24px\">\n",
              "    <g>\n",
              "        <path d=\"M19 3H5c-1.1 0-2 .9-2 2v14c0 1.1.9 2 2 2h14c1.1 0 2-.9 2-2V5c0-1.1-.9-2-2-2zM9 17H7v-7h2v7zm4 0h-2V7h2v10zm4 0h-2v-4h2v4z\"/>\n",
              "    </g>\n",
              "</svg>\n",
              "  </button>\n",
              "\n",
              "<style>\n",
              "  .colab-df-quickchart {\n",
              "      --bg-color: #E8F0FE;\n",
              "      --fill-color: #1967D2;\n",
              "      --hover-bg-color: #E2EBFA;\n",
              "      --hover-fill-color: #174EA6;\n",
              "      --disabled-fill-color: #AAA;\n",
              "      --disabled-bg-color: #DDD;\n",
              "  }\n",
              "\n",
              "  [theme=dark] .colab-df-quickchart {\n",
              "      --bg-color: #3B4455;\n",
              "      --fill-color: #D2E3FC;\n",
              "      --hover-bg-color: #434B5C;\n",
              "      --hover-fill-color: #FFFFFF;\n",
              "      --disabled-bg-color: #3B4455;\n",
              "      --disabled-fill-color: #666;\n",
              "  }\n",
              "\n",
              "  .colab-df-quickchart {\n",
              "    background-color: var(--bg-color);\n",
              "    border: none;\n",
              "    border-radius: 50%;\n",
              "    cursor: pointer;\n",
              "    display: none;\n",
              "    fill: var(--fill-color);\n",
              "    height: 32px;\n",
              "    padding: 0;\n",
              "    width: 32px;\n",
              "  }\n",
              "\n",
              "  .colab-df-quickchart:hover {\n",
              "    background-color: var(--hover-bg-color);\n",
              "    box-shadow: 0 1px 2px rgba(60, 64, 67, 0.3), 0 1px 3px 1px rgba(60, 64, 67, 0.15);\n",
              "    fill: var(--button-hover-fill-color);\n",
              "  }\n",
              "\n",
              "  .colab-df-quickchart-complete:disabled,\n",
              "  .colab-df-quickchart-complete:disabled:hover {\n",
              "    background-color: var(--disabled-bg-color);\n",
              "    fill: var(--disabled-fill-color);\n",
              "    box-shadow: none;\n",
              "  }\n",
              "\n",
              "  .colab-df-spinner {\n",
              "    border: 2px solid var(--fill-color);\n",
              "    border-color: transparent;\n",
              "    border-bottom-color: var(--fill-color);\n",
              "    animation:\n",
              "      spin 1s steps(1) infinite;\n",
              "  }\n",
              "\n",
              "  @keyframes spin {\n",
              "    0% {\n",
              "      border-color: transparent;\n",
              "      border-bottom-color: var(--fill-color);\n",
              "      border-left-color: var(--fill-color);\n",
              "    }\n",
              "    20% {\n",
              "      border-color: transparent;\n",
              "      border-left-color: var(--fill-color);\n",
              "      border-top-color: var(--fill-color);\n",
              "    }\n",
              "    30% {\n",
              "      border-color: transparent;\n",
              "      border-left-color: var(--fill-color);\n",
              "      border-top-color: var(--fill-color);\n",
              "      border-right-color: var(--fill-color);\n",
              "    }\n",
              "    40% {\n",
              "      border-color: transparent;\n",
              "      border-right-color: var(--fill-color);\n",
              "      border-top-color: var(--fill-color);\n",
              "    }\n",
              "    60% {\n",
              "      border-color: transparent;\n",
              "      border-right-color: var(--fill-color);\n",
              "    }\n",
              "    80% {\n",
              "      border-color: transparent;\n",
              "      border-right-color: var(--fill-color);\n",
              "      border-bottom-color: var(--fill-color);\n",
              "    }\n",
              "    90% {\n",
              "      border-color: transparent;\n",
              "      border-bottom-color: var(--fill-color);\n",
              "    }\n",
              "  }\n",
              "</style>\n",
              "\n",
              "  <script>\n",
              "    async function quickchart(key) {\n",
              "      const quickchartButtonEl =\n",
              "        document.querySelector('#' + key + ' button');\n",
              "      quickchartButtonEl.disabled = true;  // To prevent multiple clicks.\n",
              "      quickchartButtonEl.classList.add('colab-df-spinner');\n",
              "      try {\n",
              "        const charts = await google.colab.kernel.invokeFunction(\n",
              "            'suggestCharts', [key], {});\n",
              "      } catch (error) {\n",
              "        console.error('Error during call to suggestCharts:', error);\n",
              "      }\n",
              "      quickchartButtonEl.classList.remove('colab-df-spinner');\n",
              "      quickchartButtonEl.classList.add('colab-df-quickchart-complete');\n",
              "    }\n",
              "    (() => {\n",
              "      let quickchartButtonEl =\n",
              "        document.querySelector('#df-617362d2-df48-4298-b16d-241d16511367 button');\n",
              "      quickchartButtonEl.style.display =\n",
              "        google.colab.kernel.accessAllowed ? 'block' : 'none';\n",
              "    })();\n",
              "  </script>\n",
              "</div>\n",
              "\n",
              "    </div>\n",
              "  </div>\n"
            ],
            "application/vnd.google.colaboratory.intrinsic+json": {
              "type": "dataframe",
              "variable_name": "df",
              "summary": "{\n  \"name\": \"df\",\n  \"rows\": 2299,\n  \"fields\": [\n    {\n      \"column\": \"TransactionID\",\n      \"properties\": {\n        \"dtype\": \"string\",\n        \"num_unique_values\": 2299,\n        \"samples\": [\n          \"TX001196\",\n          \"TX002511\",\n          \"TX000227\"\n        ],\n        \"semantic_type\": \"\",\n        \"description\": \"\"\n      }\n    },\n    {\n      \"column\": \"AccountID\",\n      \"properties\": {\n        \"dtype\": \"category\",\n        \"num_unique_values\": 493,\n        \"samples\": [\n          \"AC00162\",\n          \"AC00220\",\n          \"AC00145\"\n        ],\n        \"semantic_type\": \"\",\n        \"description\": \"\"\n      }\n    },\n    {\n      \"column\": \"TransactionAmount\",\n      \"properties\": {\n        \"dtype\": \"number\",\n        \"std\": 1.1213487507371769,\n        \"min\": -0.896621608428305,\n        \"max\": 5.606384182766664,\n        \"num_unique_values\": 2251,\n        \"samples\": [\n          -0.7583349174423265,\n          1.682869973713084,\n          1.2602479213661617\n        ],\n        \"semantic_type\": \"\",\n        \"description\": \"\"\n      }\n    },\n    {\n      \"column\": \"TransactionDate\",\n      \"properties\": {\n        \"dtype\": \"object\",\n        \"num_unique_values\": 2202,\n        \"samples\": [\n          \"8/31/2023 16:42\",\n          \"9/26/2023 17:02\",\n          \"9/25/2023 17:11\"\n        ],\n        \"semantic_type\": \"\",\n        \"description\": \"\"\n      }\n    },\n    {\n      \"column\": \"TransactionType\",\n      \"properties\": {\n        \"dtype\": \"number\",\n        \"std\": 0,\n        \"min\": 0,\n        \"max\": 1,\n        \"num_unique_values\": 2,\n        \"samples\": [\n          0,\n          1\n        ],\n        \"semantic_type\": \"\",\n        \"description\": \"\"\n      }\n    },\n    {\n      \"column\": \"Location\",\n      \"properties\": {\n        \"dtype\": \"number\",\n        \"std\": 12,\n        \"min\": 0,\n        \"max\": 42,\n        \"num_unique_values\": 43,\n        \"samples\": [\n          13,\n          30\n        ],\n        \"semantic_type\": \"\",\n        \"description\": \"\"\n      }\n    },\n    {\n      \"column\": \"DeviceID\",\n      \"properties\": {\n        \"dtype\": \"category\",\n        \"num_unique_values\": 672,\n        \"samples\": [\n          \"D000218\",\n          \"D000569\"\n        ],\n        \"semantic_type\": \"\",\n        \"description\": \"\"\n      }\n    },\n    {\n      \"column\": \"IP Address\",\n      \"properties\": {\n        \"dtype\": \"category\",\n        \"num_unique_values\": 590,\n        \"samples\": [\n          \"161.195.172.148\",\n          \"30.92.249.132\"\n        ],\n        \"semantic_type\": \"\",\n        \"description\": \"\"\n      }\n    },\n    {\n      \"column\": \"MerchantID\",\n      \"properties\": {\n        \"dtype\": \"category\",\n        \"num_unique_values\": 100,\n        \"samples\": [\n          \"M029\",\n          \"M033\"\n        ],\n        \"semantic_type\": \"\",\n        \"description\": \"\"\n      }\n    },\n    {\n      \"column\": \"Channel\",\n      \"properties\": {\n        \"dtype\": \"number\",\n        \"std\": 0,\n        \"min\": 0,\n        \"max\": 2,\n        \"num_unique_values\": 3,\n        \"samples\": [\n          0,\n          2\n        ],\n        \"semantic_type\": \"\",\n        \"description\": \"\"\n      }\n    },\n    {\n      \"column\": \"CustomerAge\",\n      \"properties\": {\n        \"dtype\": \"number\",\n        \"std\": 1.2296253106062336,\n        \"min\": -0.8471285196555793,\n        \"max\": 3.759836842253845,\n        \"num_unique_values\": 63,\n        \"samples\": [\n          0.1197674107708886,\n          -0.4737716240155361\n        ],\n        \"semantic_type\": \"\",\n        \"description\": \"\"\n      }\n    },\n    {\n      \"column\": \"CustomerOccupation\",\n      \"properties\": {\n        \"dtype\": \"number\",\n        \"std\": 1,\n        \"min\": 0,\n        \"max\": 3,\n        \"num_unique_values\": 4,\n        \"samples\": [\n          3,\n          1\n        ],\n        \"semantic_type\": \"\",\n        \"description\": \"\"\n      }\n    },\n    {\n      \"column\": \"TransactionDuration\",\n      \"properties\": {\n        \"dtype\": \"number\",\n        \"std\": 1.0788958237272364,\n        \"min\": -0.9050371955716452,\n        \"max\": 3.599207008339248,\n        \"num_unique_values\": 283,\n        \"samples\": [\n          0.3783632524992506,\n          3.0421713299967594\n        ],\n        \"semantic_type\": \"\",\n        \"description\": \"\"\n      }\n    },\n    {\n      \"column\": \"LoginAttempts\",\n      \"properties\": {\n        \"dtype\": \"number\",\n        \"std\": 1.2159586945548539e-14,\n        \"min\": -0.3491456229252402,\n        \"max\": -0.3491456229252402,\n        \"num_unique_values\": 1,\n        \"samples\": [\n          -0.3491456229252402\n        ],\n        \"semantic_type\": \"\",\n        \"description\": \"\"\n      }\n    },\n    {\n      \"column\": \"AccountBalance\",\n      \"properties\": {\n        \"dtype\": \"number\",\n        \"std\": 1.0117437293314795,\n        \"min\": -0.9445935369367268,\n        \"max\": 2.9072946185261896,\n        \"num_unique_values\": 2297,\n        \"samples\": [\n          0.3321753851099716\n        ],\n        \"semantic_type\": \"\",\n        \"description\": \"\"\n      }\n    },\n    {\n      \"column\": \"PreviousTransactionDate\",\n      \"properties\": {\n        \"dtype\": \"object\",\n        \"num_unique_values\": 7,\n        \"samples\": [\n          \"11/4/2024 8:08\"\n        ],\n        \"semantic_type\": \"\",\n        \"description\": \"\"\n      }\n    },\n    {\n      \"column\": \"Cluster\",\n      \"properties\": {\n        \"dtype\": \"number\",\n        \"std\": 0,\n        \"min\": 0,\n        \"max\": 1,\n        \"num_unique_values\": 2,\n        \"samples\": [\n          1\n        ],\n        \"semantic_type\": \"\",\n        \"description\": \"\"\n      }\n    }\n  ]\n}"
            }
          },
          "metadata": {},
          "execution_count": 69
        }
      ]
    },
    {
      "cell_type": "code",
      "source": [
        "print(\"\\nInformasi dataset:\")\n",
        "df.info()"
      ],
      "metadata": {
        "colab": {
          "base_uri": "https://localhost:8080/"
        },
        "id": "Ap0dSNZCar_e",
        "outputId": "31c0fc9a-1ac1-4b3b-e1ac-be8da13998da"
      },
      "execution_count": 70,
      "outputs": [
        {
          "output_type": "stream",
          "name": "stdout",
          "text": [
            "\n",
            "Informasi dataset:\n",
            "<class 'pandas.core.frame.DataFrame'>\n",
            "RangeIndex: 2299 entries, 0 to 2298\n",
            "Data columns (total 17 columns):\n",
            " #   Column                   Non-Null Count  Dtype  \n",
            "---  ------                   --------------  -----  \n",
            " 0   TransactionID            2299 non-null   object \n",
            " 1   AccountID                2299 non-null   object \n",
            " 2   TransactionAmount        2299 non-null   float64\n",
            " 3   TransactionDate          2299 non-null   object \n",
            " 4   TransactionType          2299 non-null   int64  \n",
            " 5   Location                 2299 non-null   int64  \n",
            " 6   DeviceID                 2299 non-null   object \n",
            " 7   IP Address               2299 non-null   object \n",
            " 8   MerchantID               2299 non-null   object \n",
            " 9   Channel                  2299 non-null   int64  \n",
            " 10  CustomerAge              2299 non-null   float64\n",
            " 11  CustomerOccupation       2299 non-null   int64  \n",
            " 12  TransactionDuration      2299 non-null   float64\n",
            " 13  LoginAttempts            2299 non-null   float64\n",
            " 14  AccountBalance           2299 non-null   float64\n",
            " 15  PreviousTransactionDate  2299 non-null   object \n",
            " 16  Cluster                  2299 non-null   int64  \n",
            "dtypes: float64(5), int64(5), object(7)\n",
            "memory usage: 305.5+ KB\n"
          ]
        }
      ]
    },
    {
      "cell_type": "markdown",
      "source": [
        "# **3. Data Splitting**"
      ],
      "metadata": {
        "id": "KkPem5eWL2UP"
      }
    },
    {
      "cell_type": "markdown",
      "source": [
        "Tahap Data Splitting bertujuan untuk memisahkan dataset menjadi dua bagian: data latih (training set) dan data uji (test set)."
      ],
      "metadata": {
        "id": "YYj1rl_JNI9Y"
      }
    },
    {
      "cell_type": "code",
      "source": [
        "# Hapus kolom yang tidak diperlukan\n",
        "df.drop(columns=['TransactionID', 'AccountID', 'DeviceID', 'IP Address', 'TransactionDate', 'MerchantID', 'PreviousTransactionDate'], inplace=True)\n",
        "\n",
        "# dataset sudah di encodingkan jadi tidak perlu di encodingkan pada tahap klasifikasi\n",
        "\n",
        "\n",
        "# Pisahkan fitur (X) dan label (y)\n",
        "X = df.drop(columns=['Cluster'])  # 'Cluster' adalah label hasil clustering\n",
        "y = df['Cluster']\n",
        "\n",
        "# Memisahkan data menjadi training set (80%) dan test set (20%)\n",
        "X_train, X_test, y_train, y_test = train_test_split(X, y, test_size=0.2, random_state=42)\n",
        "\n",
        "# Verifikasi bentuk data\n",
        "print(\"Data Training:\")\n",
        "print(f\"Fitur: {X_train.shape}, Label: {y_train.shape}\")\n",
        "print(\"\\nData Testing:\")\n",
        "print(f\"Fitur: {X_test.shape}, Label: {y_test.shape}\")"
      ],
      "metadata": {
        "id": "OubAW-7ONKVj",
        "colab": {
          "base_uri": "https://localhost:8080/"
        },
        "outputId": "6fd4a360-10a1-4ef9-8887-3fbf9ee15fce"
      },
      "execution_count": 71,
      "outputs": [
        {
          "output_type": "stream",
          "name": "stdout",
          "text": [
            "Data Training:\n",
            "Fitur: (1839, 9), Label: (1839,)\n",
            "\n",
            "Data Testing:\n",
            "Fitur: (460, 9), Label: (460,)\n"
          ]
        }
      ]
    },
    {
      "cell_type": "markdown",
      "source": [
        "# **4. Membangun Model Klasifikasi**\n"
      ],
      "metadata": {
        "id": "jIqWeogr48y1"
      }
    },
    {
      "cell_type": "markdown",
      "source": [
        "## **a. Membangun Model Klasifikasi**"
      ],
      "metadata": {
        "id": "XnQqCHaP5COd"
      }
    },
    {
      "cell_type": "markdown",
      "source": [
        "Setelah memilih algoritma klasifikasi yang sesuai, langkah selanjutnya adalah melatih model menggunakan data latih.\n",
        "\n",
        "Berikut adalah rekomendasi tahapannya.\n",
        "1. Pilih algoritma klasifikasi yang sesuai, seperti Logistic Regression, Decision Tree, Random Forest, atau K-Nearest Neighbors (KNN).\n",
        "2. Latih model menggunakan data latih."
      ],
      "metadata": {
        "id": "qfkl4ZIp5JPA"
      }
    },
    {
      "cell_type": "code",
      "source": [
        "# Latih Model Logistic Regression\n",
        "logreg = LogisticRegression(solver='saga', max_iter=500, random_state=42)\n",
        "logreg.fit(X_train, y_train)  # Tanpa normalisasi ulang\n",
        "\n",
        "# Prediksi\n",
        "y_pred = logreg.predict(X_test)\n",
        "\n",
        "print(\"\\nModel Logistic Regression telah selesai dilatih!\\n\")"
      ],
      "metadata": {
        "colab": {
          "base_uri": "https://localhost:8080/"
        },
        "id": "Hs3aWjmXcMlD",
        "outputId": "5d35acb8-a3d3-4ab1-e4c2-1f073dd7b6c1"
      },
      "execution_count": 72,
      "outputs": [
        {
          "output_type": "stream",
          "name": "stdout",
          "text": [
            "\n",
            "Model Logistic Regression telah selesai dilatih!\n",
            "\n"
          ]
        },
        {
          "output_type": "stream",
          "name": "stderr",
          "text": [
            "/usr/local/lib/python3.11/dist-packages/sklearn/linear_model/_sag.py:348: ConvergenceWarning: The max_iter was reached which means the coef_ did not converge\n",
            "  warnings.warn(\n"
          ]
        }
      ]
    },
    {
      "cell_type": "markdown",
      "source": [
        "Logistic Regression adalah algoritma klasifikasi yang digunakan untuk memprediksi probabilitas suatu data termasuk dalam salah satu dari dua kelas yang berbeda. Model ini bekerja dengan menghitung fungsi logistik (sigmoid) terhadap kombinasi linear dari fitur input, menghasilkan nilai antara 0 dan 1 yang kemudian digunakan untuk menentukan kelas. Dalam implementasi ini, model dilatih menggunakan solver 'saga' dengan 500 iterasi tanpa normalisasi ulang, karena dataset sudah dinormalisasi saat proses clustering. Setelah model dilatih dengan data latih (X_train, y_train), dilakukan prediksi terhadap data uji (X_test), dan hasil prediksi digunakan untuk mengevaluasi performa model."
      ],
      "metadata": {
        "id": "hxlMjD5hwU_L"
      }
    },
    {
      "cell_type": "code",
      "source": [
        "# Model Decision Tree\n",
        "dt_model = DecisionTreeClassifier(max_depth=5, min_samples_split=10, min_samples_leaf=5, random_state=42)\n",
        "dt_model.fit(X_train, y_train)\n",
        "y_pred_dt = dt_model.predict(X_test)\n",
        "\n",
        "print(\"\\nModel DecisionTree telah selesai dilatih!\\n\")"
      ],
      "metadata": {
        "colab": {
          "base_uri": "https://localhost:8080/"
        },
        "id": "Fiihl9b1wXkg",
        "outputId": "080c447b-ff99-48bd-f840-b1d7d0b9c2cd"
      },
      "execution_count": 73,
      "outputs": [
        {
          "output_type": "stream",
          "name": "stdout",
          "text": [
            "\n",
            "Model DecisionTree telah selesai dilatih!\n",
            "\n"
          ]
        }
      ]
    },
    {
      "cell_type": "markdown",
      "source": [
        "Decision Tree adalah algoritma klasifikasi yang membangun model dalam bentuk struktur pohon keputusan. Model ini bekerja dengan membagi data ke dalam kelompok berdasarkan aturan yang dihasilkan dari fitur yang paling berkontribusi dalam memisahkan kelas. Pada implementasi ini, DecisionTreeClassifier dilatih menggunakan dataset tanpa normalisasi ulang, dengan random_state=42 untuk memastikan hasil yang konsisten. Setelah proses pelatihan pada data latih (X_train, y_train), model digunakan untuk memprediksi data uji (X_test), dan hasilnya dapat dievaluasi lebih lanjut untuk melihat kinerja klasifikasi."
      ],
      "metadata": {
        "id": "pn5hNXedwgMo"
      }
    },
    {
      "cell_type": "code",
      "source": [
        "# Model Random Forest\n",
        "rf_model = RandomForestClassifier(n_estimators=50, max_depth=10, min_samples_split=10, random_state=42)\n",
        "rf_model.fit(X_train, y_train)\n",
        "y_pred_rf = rf_model.predict(X_test)\n",
        "\n",
        "print(\"\\nModel RandomForest telah selesai dilatih!\\n\")"
      ],
      "metadata": {
        "colab": {
          "base_uri": "https://localhost:8080/"
        },
        "id": "0bLHBVv6wikL",
        "outputId": "3e78740c-dff6-447f-acf1-88d5642f79d0"
      },
      "execution_count": 74,
      "outputs": [
        {
          "output_type": "stream",
          "name": "stdout",
          "text": [
            "\n",
            "Model RandomForest telah selesai dilatih!\n",
            "\n"
          ]
        }
      ]
    },
    {
      "cell_type": "markdown",
      "source": [
        "Random Forest adalah algoritma ensemble learning yang terdiri dari banyak Decision Trees yang bekerja secara bersamaan untuk meningkatkan akurasi klasifikasi. Model ini bekerja dengan membangun beberapa pohon keputusan dari sampel acak dataset, lalu menggabungkan hasil prediksi dari setiap pohon menggunakan teknik voting mayoritas. Dalam implementasi ini, RandomForestClassifier dilatih dengan dataset tanpa normalisasi ulang menggunakan random_state=42 untuk hasil yang konsisten. Setelah pelatihan dengan X_train, y_train, model digunakan untuk memprediksi data uji (X_test), dan hasilnya dapat dievaluasi untuk mengukur performa klasifikasi."
      ],
      "metadata": {
        "id": "-iWj9xHPwnYf"
      }
    },
    {
      "cell_type": "markdown",
      "source": [
        "## **b. Evaluasi Model Klasifikasi**"
      ],
      "metadata": {
        "id": "cnI5gNHY5Qqe"
      }
    },
    {
      "cell_type": "markdown",
      "source": [
        "Berikut adalah **rekomendasi** tahapannya.\n",
        "1. Lakukan prediksi menggunakan data uji.\n",
        "2. Hitung metrik evaluasi seperti Accuracy dan F1-Score (Opsional: Precision dan Recall).\n",
        "3. Buat confusion matrix untuk melihat detail prediksi benar dan salah."
      ],
      "metadata": {
        "id": "u23SD1Bk5dnz"
      }
    },
    {
      "cell_type": "code",
      "source": [
        "# Evaluasi Model\n",
        "print(\"Akurasi Model:\", accuracy_score(y_test, y_pred))\n",
        "print(\"\\nLaporan Klasifikasi:\\n\", classification_report(y_test, y_pred))\n",
        "\n",
        "train_accuracy_lr = accuracy_score(y_train, logreg.predict(X_train)) # kalkulasi training\n",
        "print(f\"Akurasi Training: {train_accuracy_lr:.4f}\")\n",
        "print(f\"Akurasi Testing : {accuracy_score(y_test, y_pred):.4f}\")\n",
        "\n",
        "# Confusion Matrix\n",
        "cm = confusion_matrix(y_test, y_pred)\n",
        "\n",
        "# Visualisasi Confusion Matrix\n",
        "plt.figure(figsize=(5, 4))\n",
        "sns.heatmap(cm, annot=True, fmt=\"d\", cmap=\"Blues\", xticklabels=[0, 1], yticklabels=[0, 1])\n",
        "plt.xlabel(\"Prediksi\")\n",
        "plt.ylabel(\"Aktual\")\n",
        "plt.title(\"Confusion Matrix - Logistic Regression\")\n",
        "plt.show()\n"
      ],
      "metadata": {
        "colab": {
          "base_uri": "https://localhost:8080/",
          "height": 665
        },
        "id": "968SRynOwuLz",
        "outputId": "f781ea2b-dacf-4331-aa69-c61de201ec88"
      },
      "execution_count": 75,
      "outputs": [
        {
          "output_type": "stream",
          "name": "stdout",
          "text": [
            "Akurasi Model: 0.9847826086956522\n",
            "\n",
            "Laporan Klasifikasi:\n",
            "               precision    recall  f1-score   support\n",
            "\n",
            "           0       0.99      0.98      0.99       319\n",
            "           1       0.97      0.99      0.98       141\n",
            "\n",
            "    accuracy                           0.98       460\n",
            "   macro avg       0.98      0.99      0.98       460\n",
            "weighted avg       0.98      0.98      0.98       460\n",
            "\n",
            "Akurasi Training: 0.9799\n",
            "Akurasi Testing : 0.9848\n"
          ]
        },
        {
          "output_type": "display_data",
          "data": {
            "text/plain": [
              "<Figure size 500x400 with 2 Axes>"
            ],
            "image/png": "[encoded data removed]"
          },
          "metadata": {}
        }
      ]
    },
    {
      "cell_type": "markdown",
      "source": [
        "Logistic Regression adalah model yang sering digunakan untuk klasifikasi biner karena sifatnya yang sederhana dan mudah diinterpretasikan. Model ini menunjukkan akurasi testing sebesar 98.48%, yang sangat baik dalam mengklasifikasikan data. Berdasarkan confusion matrix, model ini memiliki 314 True Negatives (TN) dan 139 True Positives (TP), tetapi juga terdapat 5 False Positives (FP) dan 2 False Negatives (FN).\n",
        "\n",
        "Dari evaluasi precision dan recall, model ini menunjukkan keseimbangan yang sangat baik dalam mengklasifikasikan kedua kelas. Precision untuk kelas 0 sebesar 99% dan kelas 1 sebesar 97%, sedangkan recall untuk kelas 0 adalah 98% dan kelas 1 adalah 99%. Hal ini menunjukkan bahwa model sangat akurat, dengan kesalahan klasifikasi yang sangat kecil. False Negatives (FN) hanya 2, yang berarti hanya ada 2 sampel dari kelas 1 yang salah diklasifikasikan sebagai kelas 0, dan False Positives (FP) sebanyak 5, menunjukkan beberapa sampel kelas 0 yang salah diklasifikasikan sebagai kelas 1.\n",
        "\n",
        "Dari perspektif overfitting dan underfitting, Logistic Regression tidak menunjukkan tanda-tanda overfitting atau underfitting. Akurasi training sebesar 97.99% dan akurasi testing sebesar 98.48% memiliki selisih yang sangat kecil (-0.49%), bahkan akurasi testing sedikit lebih tinggi, yang menunjukkan model ini mampu menggeneralisasi dengan sangat baik pada data yang belum pernah dilihat sebelumnya."
      ],
      "metadata": {
        "id": "aoZUT6YCHgPS"
      }
    },
    {
      "cell_type": "code",
      "source": [
        "# Evaluasi Model\n",
        "print(\" Decision Tree Results \")\n",
        "print(\"Accuracy:\", accuracy_score(y_test, y_pred_dt))\n",
        "print(classification_report(y_test, y_pred_dt))\n",
        "\n",
        "train_accuracy_dt = accuracy_score(y_train, dt_model.predict(X_train))  # Use the correct variable name\n",
        "print(f\"Akurasi Training: {train_accuracy_dt:.4f}\")\n",
        "print(f\"Akurasi Testing : {accuracy_score(y_test, y_pred_dt):.4f}\")\n",
        "\n",
        "# Confusion Matrix\n",
        "plt.figure(figsize=(5,4))\n",
        "sns.heatmap(confusion_matrix(y_test, y_pred_dt), annot=True, fmt='d', cmap='Oranges', xticklabels=[0,1], yticklabels=[0,1])\n",
        "plt.xlabel(\"Predicted Label\")\n",
        "plt.ylabel(\"True Label\")\n",
        "plt.title(\"Confusion Matrix - Decision Tree\")\n",
        "plt.show()"
      ],
      "metadata": {
        "colab": {
          "base_uri": "https://localhost:8080/",
          "height": 647
        },
        "id": "lmmBGdMKw3HG",
        "outputId": "8f7d92dd-49f3-4de8-e236-e1ec12774ebe"
      },
      "execution_count": 76,
      "outputs": [
        {
          "output_type": "stream",
          "name": "stdout",
          "text": [
            " Decision Tree Results \n",
            "Accuracy: 0.9891304347826086\n",
            "              precision    recall  f1-score   support\n",
            "\n",
            "           0       0.99      0.99      0.99       319\n",
            "           1       0.98      0.99      0.98       141\n",
            "\n",
            "    accuracy                           0.99       460\n",
            "   macro avg       0.99      0.99      0.99       460\n",
            "weighted avg       0.99      0.99      0.99       460\n",
            "\n",
            "Akurasi Training: 0.9913\n",
            "Akurasi Testing : 0.9891\n"
          ]
        },
        {
          "output_type": "display_data",
          "data": {
            "text/plain": [
              "<Figure size 500x400 with 2 Axes>"
            ],
            "image/png": "[encoded data removed]"
          },
          "metadata": {}
        }
      ]
    },
    {
      "cell_type": "markdown",
      "source": [
        "Decision Tree adalah model klasifikasi yang bekerja dengan membagi data ke dalam cabang-cabang berdasarkan fitur, dan sering digunakan karena kemampuannya menangkap pola non-linear. Model ini menunjukkan akurasi testing sebesar 98.91%, yang sangat baik dalam mengklasifikasikan data. Berdasarkan confusion matrix, model ini memiliki 316 True Negatives (TN) dan 139 True Positives (TP), tetapi juga terdapat 3 False Positives (FP) dan 2 False Negatives (FN).\n",
        "\n",
        "Dari evaluasi precision dan recall, model ini menunjukkan performa yang sangat seimbang untuk kedua kelas. Precision untuk kelas 0 sebesar 99% dan kelas 1 sebesar 98%, sedangkan recall untuk kelas 0 adalah 99% dan kelas 1 juga 99%. Hal ini menunjukkan bahwa model sangat akurat, dengan kesalahan klasifikasi yang sangat minim. False Negatives (FN) hanya 2, yang berarti hanya ada 2 sampel dari kelas 1 yang salah diklasifikasikan sebagai kelas 0, dan False Positives (FP) sebanyak 3, menunjukkan beberapa sampel kelas 0 yang salah diklasifikasikan sebagai kelas 1.\n",
        "\n",
        "Dari perspektif overfitting dan underfitting, Decision Tree menunjukkan sedikit tanda overfitting. Akurasi training sebesar 99.13% dan akurasi testing sebesar 98.91% memiliki selisih kecil sebesar 0.22%, yang masih dalam batas wajar. Namun, akurasi training yang sedikit lebih tinggi menunjukkan bahwa model mungkin sedikit lebih cocok pada data training. Meski demikian, selisih ini sangat kecil, sehingga model ini tetap dapat dianggap mampu menggeneralisasi dengan baik pada data yang belum pernah dilihat sebelumnya."
      ],
      "metadata": {
        "id": "RROv9T92IE9-"
      }
    },
    {
      "cell_type": "code",
      "source": [
        "# Evaluasi Model\n",
        "print(\"\\nRandom Forest Results\")\n",
        "print(\"Accuracy:\", accuracy_score(y_test, y_pred_rf))\n",
        "print(classification_report(y_test, y_pred_rf))\n",
        "\n",
        "train_accuracy_rf = accuracy_score(y_train, rf_model.predict(X_train))\n",
        "print(f\"Akurasi Training: {train_accuracy_rf:.4f}\")\n",
        "print(f\"Akurasi Testing : {accuracy_score(y_test, y_pred_rf):.4f}\")\n",
        "\n",
        "\n",
        "# Confusion Matrix\n",
        "plt.figure(figsize=(5,4))\n",
        "sns.heatmap(confusion_matrix(y_test, y_pred_rf), annot=True, fmt='d', cmap='Greens', xticklabels=[0,1], yticklabels=[0,1])\n",
        "plt.xlabel(\"Predicted Label\")\n",
        "plt.ylabel(\"True Label\")\n",
        "plt.title(\"Confusion Matrix - Random Forest\")\n",
        "plt.show()"
      ],
      "metadata": {
        "colab": {
          "base_uri": "https://localhost:8080/",
          "height": 665
        },
        "id": "SL-5SYM7w_Mh",
        "outputId": "f5e692ab-3be0-4022-b991-3146ea38c89b"
      },
      "execution_count": 77,
      "outputs": [
        {
          "output_type": "stream",
          "name": "stdout",
          "text": [
            "\n",
            "🔹 Random Forest Results 🔹\n",
            "Accuracy: 0.991304347826087\n",
            "              precision    recall  f1-score   support\n",
            "\n",
            "           0       0.99      1.00      0.99       319\n",
            "           1       0.99      0.98      0.99       141\n",
            "\n",
            "    accuracy                           0.99       460\n",
            "   macro avg       0.99      0.99      0.99       460\n",
            "weighted avg       0.99      0.99      0.99       460\n",
            "\n",
            "Akurasi Training: 0.9967\n",
            "Akurasi Testing : 0.9913\n"
          ]
        },
        {
          "output_type": "display_data",
          "data": {
            "text/plain": [
              "<Figure size 500x400 with 2 Axes>"
            ],
            "image/png": "[encoded data removed]"
          },
          "metadata": {}
        }
      ]
    },
    {
      "cell_type": "markdown",
      "source": [
        "Random Forest adalah model ensemble yang menggabungkan banyak pohon keputusan untuk meningkatkan akurasi dan mengurangi risiko overfitting dibandingkan Decision Tree tunggal. Model ini menunjukkan akurasi testing sebesar 99.13%, yang sangat baik dalam mengklasifikasikan data. Berdasarkan confusion matrix, model ini memiliki 318 True Negatives (TN) dan 138 True Positives (TP), tetapi juga terdapat 1 False Positive (FP) dan 3 False Negatives (FN).\n",
        "\n",
        "Dari evaluasi precision dan recall, model ini menunjukkan performa yang sangat seimbang untuk kedua kelas. Precision untuk kelas 0 sebesar 99% dan kelas 1 juga 99%, sedangkan recall untuk kelas 0 adalah 100% dan kelas 1 adalah 98%. Hal ini menunjukkan bahwa model sangat akurat, dengan kesalahan klasifikasi yang sangat minim. False Negatives (FN) hanya 3, yang berarti ada 3 sampel dari kelas 1 yang salah diklasifikasikan sebagai kelas 0, dan False Positive (FP) hanya 1, menunjukkan hanya 1 sampel kelas 0 yang salah diklasifikasikan sebagai kelas 1.\n",
        "\n",
        "Dari perspektif overfitting dan underfitting, Random Forest menunjukkan sedikit tanda overfitting. Akurasi training sebesar 99.67% dan akurasi testing sebesar 99.13% memiliki selisih sebesar 0.54%, yang masih dalam batas wajar untuk model ensemble seperti Random Forest. Namun, akurasi training yang sangat tinggi (mendekati 100%) menunjukkan bahwa model mungkin sedikit terlalu cocok pada data training. Meski demikian, selisih ini kecil, dan akurasi testing yang sangat tinggi menunjukkan bahwa model tetap mampu menggeneralisasi dengan baik pada data yang belum pernah dilihat sebelumnya."
      ],
      "metadata": {
        "id": "tBp56UfCIoOb"
      }
    },
    {
      "cell_type": "markdown",
      "source": [
        "## **c. Tuning Model Klasifikasi (Optional)**"
      ],
      "metadata": {
        "id": "ph9yIYDXEPuB"
      }
    },
    {
      "cell_type": "markdown",
      "source": [
        "Gunakan GridSearchCV, RandomizedSearchCV, atau metode lainnya untuk mencari kombinasi hyperparameter terbaik"
      ],
      "metadata": {
        "id": "-Bikx3LINv5e"
      }
    },
    {
      "cell_type": "code",
      "source": [
        "# 1. Tuning Logistic Regression\n",
        "log_reg_params = {\n",
        "    'C': [0.01, 0.1, 1, 10, 100],\n",
        "    'solver': ['liblinear', 'lbfgs']\n",
        "}\n",
        "\n",
        "log_reg = LogisticRegression()\n",
        "log_reg_grid = GridSearchCV(log_reg, log_reg_params, cv=5, scoring='accuracy', n_jobs=-1)\n",
        "log_reg_grid.fit(X_train, y_train)\n",
        "\n",
        "print(\"Best Logistic Regression Parameters:\", log_reg_grid.best_params_)\n",
        "\n"
      ],
      "metadata": {
        "id": "winbFzb8NL95",
        "colab": {
          "base_uri": "https://localhost:8080/"
        },
        "outputId": "d9dac964-4a59-4c1c-a71c-82423ff073b1"
      },
      "execution_count": 78,
      "outputs": [
        {
          "output_type": "stream",
          "name": "stdout",
          "text": [
            "Best Logistic Regression Parameters: {'C': 100, 'solver': 'lbfgs'}\n"
          ]
        }
      ]
    },
    {
      "cell_type": "code",
      "source": [
        "# 2. Tuning Decision Tree\n",
        "dt_params = {\n",
        "    'criterion': ['gini', 'entropy'],\n",
        "    'max_depth': [3, 5, 10, None],\n",
        "    'min_samples_split': [2, 5, 10, 20]\n",
        "}\n",
        "\n",
        "dt = DecisionTreeClassifier()\n",
        "dt_grid = GridSearchCV(dt, dt_params, cv=5, scoring='accuracy', n_jobs=-1)\n",
        "dt_grid.fit(X_train, y_train)\n",
        "\n",
        "print(\"Best Decision Tree Parameters:\", dt_grid.best_params_)"
      ],
      "metadata": {
        "colab": {
          "base_uri": "https://localhost:8080/"
        },
        "id": "eFmtkri75_lF",
        "outputId": "90c5f4bd-a80a-441c-9e7d-51e453ffb3d6"
      },
      "execution_count": 79,
      "outputs": [
        {
          "output_type": "stream",
          "name": "stdout",
          "text": [
            "Best Decision Tree Parameters: {'criterion': 'entropy', 'max_depth': None, 'min_samples_split': 5}\n"
          ]
        }
      ]
    },
    {
      "cell_type": "code",
      "source": [
        "# 3. Tuning Random Forest (Menggunakan RandomizedSearchCV untuk efisiensi)\n",
        "rf_params = {\n",
        "    'n_estimators': [10, 50, 100, 200],\n",
        "    'max_depth': [None, 5, 10, 20],\n",
        "    'min_samples_split': [2, 5, 10],\n",
        "    'max_features': ['sqrt', 'log2']\n",
        "}\n",
        "\n",
        "rf = RandomForestClassifier()\n",
        "rf_random = RandomizedSearchCV(rf, rf_params, cv=5, scoring='accuracy', n_iter=10, n_jobs=-1, random_state=42)\n",
        "rf_random.fit(X_train, y_train)\n",
        "\n",
        "print(\"Best Random Forest Parameters:\", rf_random.best_params_)"
      ],
      "metadata": {
        "colab": {
          "base_uri": "https://localhost:8080/"
        },
        "id": "2C_F-i0T6DI2",
        "outputId": "8492f760-63fd-43e7-94e0-ba0cb6c04d9b"
      },
      "execution_count": 80,
      "outputs": [
        {
          "output_type": "stream",
          "name": "stdout",
          "text": [
            "Best Random Forest Parameters: {'n_estimators': 200, 'min_samples_split': 5, 'max_features': 'sqrt', 'max_depth': 20}\n"
          ]
        }
      ]
    },
    {
      "cell_type": "markdown",
      "source": [
        "## **d. Evaluasi Model Klasifikasi setelah Tuning (Optional)**"
      ],
      "metadata": {
        "id": "hE7pqlEPEYzI"
      }
    },
    {
      "cell_type": "markdown",
      "source": [
        "Berikut adalah rekomendasi tahapannya.\n",
        "1. Gunakan model dengan hyperparameter terbaik.\n",
        "2. Hitung ulang metrik evaluasi untuk melihat apakah ada peningkatan performa."
      ],
      "metadata": {
        "id": "feaPESoeN0zz"
      }
    },
    {
      "cell_type": "code",
      "source": [
        "# Menggunakan model dengan hyperparameter terbaik\n",
        "best_log_reg = log_reg_grid.best_estimator_\n",
        "y_pred_log = best_log_reg.predict(X_test)\n",
        "\n",
        "# Evaluasi performa\n",
        "print(\"Akurasi Logistic Regression Setelah Tuning:\", accuracy_score(y_test, y_pred_log))\n",
        "print(\"Laporan Klasifikasi Logistic Regression:\\n\", classification_report(y_test, y_pred_log))\n"
      ],
      "metadata": {
        "id": "HTXZRvEeNMb1",
        "colab": {
          "base_uri": "https://localhost:8080/"
        },
        "outputId": "deb21dff-dd34-46c1-af35-86290046f728"
      },
      "execution_count": 81,
      "outputs": [
        {
          "output_type": "stream",
          "name": "stdout",
          "text": [
            "Akurasi Logistic Regression Setelah Tuning: 0.9869565217391304\n",
            "Laporan Klasifikasi Logistic Regression:\n",
            "               precision    recall  f1-score   support\n",
            "\n",
            "           0       0.99      0.99      0.99       319\n",
            "           1       0.97      0.99      0.98       141\n",
            "\n",
            "    accuracy                           0.99       460\n",
            "   macro avg       0.98      0.99      0.98       460\n",
            "weighted avg       0.99      0.99      0.99       460\n",
            "\n"
          ]
        }
      ]
    },
    {
      "cell_type": "code",
      "source": [
        "from sklearn.model_selection import GridSearchCV\n",
        "from sklearn.tree import DecisionTreeClassifier\n",
        "\n",
        "# Definisikan parameter yang ingin dicoba\n",
        "dt_param_grid = {\n",
        "    'max_depth': [3, 5, 10, 15],\n",
        "    'min_samples_split': [2, 5, 10],\n",
        "    'min_samples_leaf': [1, 5, 10]\n",
        "}\n",
        "\n",
        "# Inisialisasi model\n",
        "dt_model = DecisionTreeClassifier(random_state=42)\n",
        "\n",
        "# Setup GridSearchCV\n",
        "dt_grid_search = GridSearchCV(estimator=dt_model, param_grid=dt_param_grid,\n",
        "                              cv=5, scoring='accuracy', n_jobs=-1)\n",
        "\n",
        "# Latih model\n",
        "dt_grid_search.fit(X_train, y_train)\n",
        "\n",
        "# Tampilkan hasil terbaik\n",
        "print(\"Best Parameters for Decision Tree:\", dt_grid_search.best_params_)\n",
        "print(\"Best Cross-Validation Score:\", dt_grid_search.best_score_)\n",
        "\n",
        "# Prediksi dengan model terbaik\n",
        "best_dt_model = dt_grid_search.best_estimator_\n",
        "y_pred_dt = best_dt_model.predict(X_test)\n",
        "\n",
        "# Evaluasi\n",
        "print(\"Decision Tree Tuned - Testing Accuracy:\", accuracy_score(y_test, y_pred_dt))\n",
        "print(\"Classification Report:\\n\", classification_report(y_test, y_pred_dt))\n",
        "print(\"Training Accuracy:\", accuracy_score(y_train, best_dt_model.predict(X_train)))"
      ],
      "metadata": {
        "colab": {
          "base_uri": "https://localhost:8080/"
        },
        "id": "tSUb8ttg6VPZ",
        "outputId": "ebe91c82-e371-408d-f4e0-0a8da27b0285"
      },
      "execution_count": 83,
      "outputs": [
        {
          "output_type": "stream",
          "name": "stdout",
          "text": [
            "Best Parameters for Decision Tree: {'max_depth': 3, 'min_samples_leaf': 1, 'min_samples_split': 2}\n",
            "Best Cross-Validation Score: 0.9858591991470205\n",
            "Decision Tree Tuned - Testing Accuracy: 0.9891304347826086\n",
            "Classification Report:\n",
            "               precision    recall  f1-score   support\n",
            "\n",
            "           0       0.99      0.99      0.99       319\n",
            "           1       0.98      0.99      0.98       141\n",
            "\n",
            "    accuracy                           0.99       460\n",
            "   macro avg       0.99      0.99      0.99       460\n",
            "weighted avg       0.99      0.99      0.99       460\n",
            "\n",
            "Training Accuracy: 0.9912996193583469\n"
          ]
        }
      ]
    },
    {
      "cell_type": "code",
      "source": [
        "from sklearn.model_selection import RandomizedSearchCV\n",
        "from sklearn.ensemble import RandomForestClassifier\n",
        "from sklearn.metrics import accuracy_score, classification_report\n",
        "\n",
        "# mendefinisikan distribusi parameter dengan batasan lebih ketat untuk mengurangi overfitting\n",
        "rf_param_dist = {\n",
        "    'n_estimators': [50, 100, 150],\n",
        "    'max_depth': [3, 5, 7],\n",
        "    'min_samples_split': [5, 10, 15],\n",
        "    'min_samples_leaf': [5, 10, 15]\n",
        "}\n",
        "\n",
        "# Inisialisasi model\n",
        "rf_model = RandomForestClassifier(random_state=42)\n",
        "\n",
        "# Setup RandomizedSearchCV dengan iterasi dan fold minimal\n",
        "rf_random_search = RandomizedSearchCV(estimator=rf_model, param_distributions=rf_param_dist,\n",
        "                                      n_iter=10, cv=3, scoring='accuracy', n_jobs=-1, random_state=42)\n",
        "\n",
        "# Latih model\n",
        "rf_random_search.fit(X_train, y_train)\n",
        "\n",
        "# Tampilkan hasil terbaik\n",
        "print(\"Best Parameters for Random Forest:\", rf_random_search.best_params_)\n",
        "print(\"Best Cross-Validation Score:\", rf_random_search.best_score_)\n",
        "\n",
        "# Prediksi dan evaluasi dengan model terbaik\n",
        "best_rf_model = rf_random_search.best_estimator_\n",
        "y_pred_rf = best_rf_model.predict(X_test)\n",
        "print(\"Random Forest Tuned - Testing Accuracy:\", accuracy_score(y_test, y_pred_rf))\n",
        "print(\"Classification Report:\\n\", classification_report(y_test, y_pred_rf))\n",
        "print(\"Training Accuracy:\", accuracy_score(y_train, best_rf_model.predict(X_train)))\n"
      ],
      "metadata": {
        "colab": {
          "base_uri": "https://localhost:8080/"
        },
        "id": "MacRTU0q9V2q",
        "outputId": "aa61124c-1a7f-4b48-dcd2-71d2f1ff5319"
      },
      "execution_count": 90,
      "outputs": [
        {
          "output_type": "stream",
          "name": "stdout",
          "text": [
            "Best Parameters for Random Forest: {'n_estimators': 100, 'min_samples_split': 10, 'min_samples_leaf': 5, 'max_depth': 5}\n",
            "Best Cross-Validation Score: 0.9820554649265906\n",
            "Random Forest Tuned - Testing Accuracy: 0.9891304347826086\n",
            "Classification Report:\n",
            "               precision    recall  f1-score   support\n",
            "\n",
            "           0       0.98      1.00      0.99       319\n",
            "           1       1.00      0.96      0.98       141\n",
            "\n",
            "    accuracy                           0.99       460\n",
            "   macro avg       0.99      0.98      0.99       460\n",
            "weighted avg       0.99      0.99      0.99       460\n",
            "\n",
            "Training Accuracy: 0.989668297988037\n"
          ]
        }
      ]
    },
    {
      "cell_type": "markdown",
      "source": [
        "## **e. Analisis Hasil Evaluasi Model Klasifikasi**"
      ],
      "metadata": {
        "id": "ZRsOdm4uEgAW"
      }
    },
    {
      "cell_type": "markdown",
      "source": [
        "Berikut adalah **rekomendasi** tahapannya.\n",
        "1. Bandingkan hasil evaluasi sebelum dan setelah tuning.\n",
        "  - Logistic Regression: Akurasinya meningkat dari 98.48% menjadi 98.70%, yang menunjukkan bahwa tuning hyperparameter berhasil meningkatkan performa model secara marginal.\n",
        "  - Decision Tree: Akurasi tetap stabil di 98.91% sebelum dan setelah tuning, menunjukkan bahwa tuning tidak mengubah performa secara signifikan, tetapi tetap mempertahankan stabilitas.\n",
        "  - Random Forest: Mengalami sedikit penurunan dari 99.13% menjadi 98.91%, tetapi tetap menjadi model terbaik dengan akurasi tinggi, dan tuning membantu meningkatkan generalisasi.\n",
        "\n",
        "2. Identifikasi kelemahan model, seperti:\n",
        "  1. Logistic Regression\n",
        "  - Precision & Recall:\n",
        "    - Precision kelas 0 tetap stabil di 99% sebelum dan setelah tuning, sedangkan recall kelas 0 meningkat dari 98% ke 99%.\n",
        "    - Precision kelas 1 tetap 97%, dan recall kelas 1 stabil di 99%.\n",
        "    - ecara keseluruhan, model ini sudah sangat seimbang, dengan peningkatan kecil pada recall kelas 0, menunjukkan model lebih baik dalam mengenali kelas negatif.\n",
        "\n",
        "  - Overfitting / Underfitting:\n",
        "  \n",
        "    Tidak ada indikasi overfitting atau underfitting. Akurasi training (97.99%) lebih rendah dari testing (98.48%) sebelum tuning, dan setelah tuning, akurasi testing naik ke 98.70%. Ini menunjukkan model sangat generalisasi dengan baik.\n",
        "\n",
        "    Sebelum tuning, model sudah sangat baik, dan setelah tuning, performa sedikit lebih baik tanpa kehilangan generalisasi.\n",
        "\n",
        "  2. Decision Tree\n",
        "  - Precision & Recall:\n",
        "    - Precision dan recall untuk kedua kelas tetap stabil sebelum dan setelah tuning: precision\n",
        "    - kelas 0 (99%), recall kelas 0 (99%), precision kelas 1 (98%), dan recall kelas 1 (99%).\n",
        "    - Akurasi tetap di 98.91%, menunjukkan tuning tidak mengubah performa secara signifikan.\n",
        "\n",
        "  - Overfitting / Underfitting:\n",
        "\n",
        "    Sebelum tuning, selisih akurasi training (99.13%) dan testing (98.91%) adalah 0.22%, menunjukkan sedikit overfitting.\n",
        "\n",
        "    Setelah tuning dengan max_depth=3, selisih tetap 0.22%, tetapi training accuracy tetap di 99.13%. Tuning tidak mengurangi overfitting secara signifikan, tapi model tetap stabil dan generalisasi baik.\n",
        "\n",
        "  3. Random Forest\n",
        "  - Precision & Recall:\n",
        "    - Precision kelas 0 turun sedikit dari 99% ke 98%, tetapi recall kelas 0 naik dari 99% ke 100%.\n",
        "    - Precision kelas 1 naik dari 99% ke 100%, tetapi recall kelas 1 turun dari 98% ke 96%.\n",
        "    - AAkurasi turun sedikit dari 99.13% ke 98.91%, yang menunjukkan tuning membuat model lebih sederhana untuk meningkatkan generalisasi.\n",
        "\n",
        "   - Overfitting / Underfitting:\n",
        "\n",
        "    Sebelum tuning, selisih akurasi training (99.67%) dan testing (99.13%) adalah 0.54%, menunjukkan sedikit overfitting.\n",
        "\n",
        "    Setelah tuning dengan max_depth=5 dan min_samples_leaf=5, selisih berkurang menjadi 0.06% (training 98.97%, testing 98.91%). Ini menunjukkan tuning berhasil mengurangi overfitting dan meningkatkan generalisasi.\n",
        "\n",
        "3. Berikan rekomendasi tindakan lanjutan, seperti mengumpulkan data tambahan atau mencoba algoritma lain jika hasil belum memuaskan.\n",
        "\n",
        "  1. Mencoba Algoritma Lain\n",
        "    \n",
        "    Meskipun Random Forest menunjukkan performa terbaik, model lain seperti XGBoost, LightGBM, atau SVM bisa diuji untuk melihat apakah mereka dapat memberikan akurasi yang baik atau waktu inferensi yang lebih cepat\n",
        "\n",
        "  2. Evaluasi dengan Data\n",
        "    Jika model akan digunakan ke industri, penting untuk menguji performanya dengan data baru yang belum pernah digunakan sebelumnya. agar melihat adaptasinya.\n",
        "  \n",
        "  3. Mengumpulkan Data Tambahan\n",
        "    Jika dirasa dataset saat ini masih terbatas atau tidak cukup representatif, maka dapat menambahkan lebih banyak data, terutama dari kelas yang mungkin kurang terwakili. tapi dataset yang digunakan ini sudah melalui proses clustering di awal.\n",
        "\n"
      ],
      "metadata": {
        "id": "Hm3BhSi6N4_l"
      }
    },
    {
      "cell_type": "markdown",
      "source": [
        "KESIMPULAN\n",
        "\n",
        "Berdasarkan hasil evaluasi sebelum dan sesudah tuning, Random Forest tetap menjadi model terbaik untuk digunakan dalam kasus ini. Model ini menunjukkan akurasi tertinggi sebelum tuning (99.13%) dan setelah tuning (98.91%), dengan precision dan recall yang sangat tinggi. Setelah tuning, recall kelas 0 mencapai 100%, meskipun recall kelas 1 sedikit turun ke 96%, tetapi selisih akurasi training-testing berkurang signifikan dari 0.54% ke 0.06%, menunjukkan peningkatan generalisasi. Random Forest lebih stabil dibandingkan Decision Tree karena mekanisme ensemble-nya yang mengurangi overfitting, dan memiliki performa lebih baik daripada Logistic Regression, yang lebih cocok untuk data dengan pola linear. Jika diperlukan peningkatan lebih lanjut, pengujian dengan algoritma lain seperti XGBoost atau pengumpulan data tambahan dapat dipertimbangkan."
      ],
      "metadata": {
        "id": "8NqKp0vnSbAb"
      }
    }
  ]
}